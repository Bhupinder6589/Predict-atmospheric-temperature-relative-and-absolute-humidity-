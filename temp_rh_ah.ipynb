{
 "cells": [
  {
   "cell_type": "code",
   "execution_count": 1,
   "metadata": {},
   "outputs": [],
   "source": [
    "# importing libraries\n",
    "\n",
    "import pandas as pd\n",
    "import numpy as np\n",
    "import matplotlib.pyplot as plt\n",
    "import seaborn as sns"
   ]
  },
  {
   "cell_type": "code",
   "execution_count": 2,
   "metadata": {},
   "outputs": [
    {
     "data": {
      "text/html": [
       "<div>\n",
       "<style scoped>\n",
       "    .dataframe tbody tr th:only-of-type {\n",
       "        vertical-align: middle;\n",
       "    }\n",
       "\n",
       "    .dataframe tbody tr th {\n",
       "        vertical-align: top;\n",
       "    }\n",
       "\n",
       "    .dataframe thead th {\n",
       "        text-align: right;\n",
       "    }\n",
       "</style>\n",
       "<table border=\"1\" class=\"dataframe\">\n",
       "  <thead>\n",
       "    <tr style=\"text-align: right;\">\n",
       "      <th></th>\n",
       "      <th>Date</th>\n",
       "      <th>Time</th>\n",
       "      <th>CO(GT)</th>\n",
       "      <th>PT08.S1(CO)</th>\n",
       "      <th>NMHC(GT)</th>\n",
       "      <th>C6H6(GT)</th>\n",
       "      <th>PT08.S2(NMHC)</th>\n",
       "      <th>NOx(GT)</th>\n",
       "      <th>PT08.S3(NOx)</th>\n",
       "      <th>NO2(GT)</th>\n",
       "      <th>PT08.S4(NO2)</th>\n",
       "      <th>PT08.S5(O3)</th>\n",
       "      <th>T</th>\n",
       "      <th>RH</th>\n",
       "      <th>AH</th>\n",
       "    </tr>\n",
       "  </thead>\n",
       "  <tbody>\n",
       "    <tr>\n",
       "      <th>0</th>\n",
       "      <td>2004-03-10</td>\n",
       "      <td>18:00:00</td>\n",
       "      <td>2.6</td>\n",
       "      <td>1360.00</td>\n",
       "      <td>150</td>\n",
       "      <td>11.881723</td>\n",
       "      <td>1045.50</td>\n",
       "      <td>166.0</td>\n",
       "      <td>1056.25</td>\n",
       "      <td>113.0</td>\n",
       "      <td>1692.00</td>\n",
       "      <td>1267.50</td>\n",
       "      <td>13.60</td>\n",
       "      <td>48.875001</td>\n",
       "      <td>0.757754</td>\n",
       "    </tr>\n",
       "    <tr>\n",
       "      <th>1</th>\n",
       "      <td>2004-03-10</td>\n",
       "      <td>19:00:00</td>\n",
       "      <td>2.0</td>\n",
       "      <td>1292.25</td>\n",
       "      <td>112</td>\n",
       "      <td>9.397165</td>\n",
       "      <td>954.75</td>\n",
       "      <td>103.0</td>\n",
       "      <td>1173.75</td>\n",
       "      <td>92.0</td>\n",
       "      <td>1558.75</td>\n",
       "      <td>972.25</td>\n",
       "      <td>13.30</td>\n",
       "      <td>47.700000</td>\n",
       "      <td>0.725487</td>\n",
       "    </tr>\n",
       "    <tr>\n",
       "      <th>2</th>\n",
       "      <td>2004-03-10</td>\n",
       "      <td>20:00:00</td>\n",
       "      <td>2.2</td>\n",
       "      <td>1402.00</td>\n",
       "      <td>88</td>\n",
       "      <td>8.997817</td>\n",
       "      <td>939.25</td>\n",
       "      <td>131.0</td>\n",
       "      <td>1140.00</td>\n",
       "      <td>114.0</td>\n",
       "      <td>1554.50</td>\n",
       "      <td>1074.00</td>\n",
       "      <td>11.90</td>\n",
       "      <td>53.975000</td>\n",
       "      <td>0.750239</td>\n",
       "    </tr>\n",
       "    <tr>\n",
       "      <th>3</th>\n",
       "      <td>2004-03-10</td>\n",
       "      <td>21:00:00</td>\n",
       "      <td>2.2</td>\n",
       "      <td>1375.50</td>\n",
       "      <td>80</td>\n",
       "      <td>9.228796</td>\n",
       "      <td>948.25</td>\n",
       "      <td>172.0</td>\n",
       "      <td>1092.00</td>\n",
       "      <td>122.0</td>\n",
       "      <td>1583.75</td>\n",
       "      <td>1203.25</td>\n",
       "      <td>11.00</td>\n",
       "      <td>60.000000</td>\n",
       "      <td>0.786713</td>\n",
       "    </tr>\n",
       "    <tr>\n",
       "      <th>4</th>\n",
       "      <td>2004-03-10</td>\n",
       "      <td>22:00:00</td>\n",
       "      <td>1.6</td>\n",
       "      <td>1272.25</td>\n",
       "      <td>51</td>\n",
       "      <td>6.518224</td>\n",
       "      <td>835.50</td>\n",
       "      <td>131.0</td>\n",
       "      <td>1205.00</td>\n",
       "      <td>116.0</td>\n",
       "      <td>1490.00</td>\n",
       "      <td>1110.00</td>\n",
       "      <td>11.15</td>\n",
       "      <td>59.575001</td>\n",
       "      <td>0.788794</td>\n",
       "    </tr>\n",
       "  </tbody>\n",
       "</table>\n",
       "</div>"
      ],
      "text/plain": [
       "        Date      Time  CO(GT)  PT08.S1(CO)  NMHC(GT)   C6H6(GT)  \\\n",
       "0 2004-03-10  18:00:00     2.6      1360.00       150  11.881723   \n",
       "1 2004-03-10  19:00:00     2.0      1292.25       112   9.397165   \n",
       "2 2004-03-10  20:00:00     2.2      1402.00        88   8.997817   \n",
       "3 2004-03-10  21:00:00     2.2      1375.50        80   9.228796   \n",
       "4 2004-03-10  22:00:00     1.6      1272.25        51   6.518224   \n",
       "\n",
       "   PT08.S2(NMHC)  NOx(GT)  PT08.S3(NOx)  NO2(GT)  PT08.S4(NO2)  PT08.S5(O3)  \\\n",
       "0        1045.50    166.0       1056.25    113.0       1692.00      1267.50   \n",
       "1         954.75    103.0       1173.75     92.0       1558.75       972.25   \n",
       "2         939.25    131.0       1140.00    114.0       1554.50      1074.00   \n",
       "3         948.25    172.0       1092.00    122.0       1583.75      1203.25   \n",
       "4         835.50    131.0       1205.00    116.0       1490.00      1110.00   \n",
       "\n",
       "       T         RH        AH  \n",
       "0  13.60  48.875001  0.757754  \n",
       "1  13.30  47.700000  0.725487  \n",
       "2  11.90  53.975000  0.750239  \n",
       "3  11.00  60.000000  0.786713  \n",
       "4  11.15  59.575001  0.788794  "
      ]
     },
     "execution_count": 2,
     "metadata": {},
     "output_type": "execute_result"
    }
   ],
   "source": [
    "# importing dataset\n",
    "data=pd.read_excel('AirQualityUCI.xlsx')\n",
    "data.head()"
   ]
  },
  {
   "cell_type": "code",
   "execution_count": 3,
   "metadata": {},
   "outputs": [
    {
     "data": {
      "text/plain": [
       "Date                0\n",
       "Time                0\n",
       "CO(GT)           1683\n",
       "PT08.S1(CO)       366\n",
       "NMHC(GT)         8443\n",
       "C6H6(GT)          366\n",
       "PT08.S2(NMHC)     366\n",
       "NOx(GT)          1639\n",
       "PT08.S3(NOx)      366\n",
       "NO2(GT)          1642\n",
       "PT08.S4(NO2)      366\n",
       "PT08.S5(O3)       366\n",
       "T                 366\n",
       "RH                366\n",
       "AH                366\n",
       "dtype: int64"
      ]
     },
     "execution_count": 3,
     "metadata": {},
     "output_type": "execute_result"
    }
   ],
   "source": [
    "# replace -200 which represents null values\n",
    "\n",
    "data=data.replace({-200:None})\n",
    "\n",
    "# finding null values\n",
    "\n",
    "data.isnull().sum()"
   ]
  },
  {
   "cell_type": "code",
   "execution_count": 4,
   "metadata": {},
   "outputs": [],
   "source": [
    "# handling missing values\n",
    "\n",
    "data=data.drop(['NMHC(GT)'],axis='columns')\n",
    "data=data[pd.notnull(data['NO2(GT)'])]\n",
    "for e in data.columns:\n",
    "    if(data[e].isnull().sum()!=0):\n",
    "        data[e]=data[e].fillna(data[e].mean())\n"
   ]
  },
  {
   "cell_type": "code",
   "execution_count": 5,
   "metadata": {},
   "outputs": [
    {
     "data": {
      "text/plain": [
       "Date             0\n",
       "Time             0\n",
       "CO(GT)           0\n",
       "PT08.S1(CO)      0\n",
       "C6H6(GT)         0\n",
       "PT08.S2(NMHC)    0\n",
       "NOx(GT)          0\n",
       "PT08.S3(NOx)     0\n",
       "NO2(GT)          0\n",
       "PT08.S4(NO2)     0\n",
       "PT08.S5(O3)      0\n",
       "T                0\n",
       "RH               0\n",
       "AH               0\n",
       "dtype: int64"
      ]
     },
     "execution_count": 5,
     "metadata": {},
     "output_type": "execute_result"
    }
   ],
   "source": [
    "# checking null values\n",
    "\n",
    "data.isnull().sum()"
   ]
  },
  {
   "cell_type": "code",
   "execution_count": 6,
   "metadata": {},
   "outputs": [
    {
     "data": {
      "text/html": [
       "<div>\n",
       "<style scoped>\n",
       "    .dataframe tbody tr th:only-of-type {\n",
       "        vertical-align: middle;\n",
       "    }\n",
       "\n",
       "    .dataframe tbody tr th {\n",
       "        vertical-align: top;\n",
       "    }\n",
       "\n",
       "    .dataframe thead th {\n",
       "        text-align: right;\n",
       "    }\n",
       "</style>\n",
       "<table border=\"1\" class=\"dataframe\">\n",
       "  <thead>\n",
       "    <tr style=\"text-align: right;\">\n",
       "      <th></th>\n",
       "      <th>CO(GT)</th>\n",
       "      <th>PT08.S1(CO)</th>\n",
       "      <th>C6H6(GT)</th>\n",
       "      <th>PT08.S2(NMHC)</th>\n",
       "      <th>PT08.S3(NOx)</th>\n",
       "      <th>PT08.S4(NO2)</th>\n",
       "      <th>PT08.S5(O3)</th>\n",
       "      <th>T</th>\n",
       "      <th>RH</th>\n",
       "      <th>AH</th>\n",
       "    </tr>\n",
       "  </thead>\n",
       "  <tbody>\n",
       "    <tr>\n",
       "      <th>count</th>\n",
       "      <td>7715.000000</td>\n",
       "      <td>7715.000000</td>\n",
       "      <td>7715.000000</td>\n",
       "      <td>7715.000000</td>\n",
       "      <td>7715.000000</td>\n",
       "      <td>7715.000000</td>\n",
       "      <td>7715.000000</td>\n",
       "      <td>7715.000000</td>\n",
       "      <td>7715.000000</td>\n",
       "      <td>7715.000000</td>\n",
       "    </tr>\n",
       "    <tr>\n",
       "      <th>mean</th>\n",
       "      <td>2.205635</td>\n",
       "      <td>1111.994511</td>\n",
       "      <td>10.364336</td>\n",
       "      <td>950.533117</td>\n",
       "      <td>824.452117</td>\n",
       "      <td>1451.890944</td>\n",
       "      <td>1045.593388</td>\n",
       "      <td>17.962874</td>\n",
       "      <td>48.773557</td>\n",
       "      <td>0.994757</td>\n",
       "    </tr>\n",
       "    <tr>\n",
       "      <th>std</th>\n",
       "      <td>1.414443</td>\n",
       "      <td>213.679333</td>\n",
       "      <td>7.285752</td>\n",
       "      <td>259.847103</td>\n",
       "      <td>251.514474</td>\n",
       "      <td>346.049106</td>\n",
       "      <td>397.319524</td>\n",
       "      <td>8.811826</td>\n",
       "      <td>17.125681</td>\n",
       "      <td>0.395144</td>\n",
       "    </tr>\n",
       "    <tr>\n",
       "      <th>min</th>\n",
       "      <td>0.100000</td>\n",
       "      <td>647.250000</td>\n",
       "      <td>0.149048</td>\n",
       "      <td>383.250000</td>\n",
       "      <td>322.000000</td>\n",
       "      <td>551.000000</td>\n",
       "      <td>221.000000</td>\n",
       "      <td>-1.900000</td>\n",
       "      <td>9.175000</td>\n",
       "      <td>0.184679</td>\n",
       "    </tr>\n",
       "    <tr>\n",
       "      <th>25%</th>\n",
       "      <td>1.200000</td>\n",
       "      <td>955.500000</td>\n",
       "      <td>4.904878</td>\n",
       "      <td>758.625000</td>\n",
       "      <td>655.375000</td>\n",
       "      <td>1219.250000</td>\n",
       "      <td>760.500000</td>\n",
       "      <td>11.550000</td>\n",
       "      <td>35.750000</td>\n",
       "      <td>0.714983</td>\n",
       "    </tr>\n",
       "    <tr>\n",
       "      <th>50%</th>\n",
       "      <td>2.000000</td>\n",
       "      <td>1089.250000</td>\n",
       "      <td>9.004199</td>\n",
       "      <td>939.500000</td>\n",
       "      <td>801.500000</td>\n",
       "      <td>1451.890944</td>\n",
       "      <td>1013.250000</td>\n",
       "      <td>17.675000</td>\n",
       "      <td>48.773557</td>\n",
       "      <td>0.987521</td>\n",
       "    </tr>\n",
       "    <tr>\n",
       "      <th>75%</th>\n",
       "      <td>2.800000</td>\n",
       "      <td>1235.500000</td>\n",
       "      <td>14.096486</td>\n",
       "      <td>1119.750000</td>\n",
       "      <td>944.000000</td>\n",
       "      <td>1672.375000</td>\n",
       "      <td>1290.125000</td>\n",
       "      <td>23.750000</td>\n",
       "      <td>61.600000</td>\n",
       "      <td>1.254426</td>\n",
       "    </tr>\n",
       "    <tr>\n",
       "      <th>max</th>\n",
       "      <td>11.900000</td>\n",
       "      <td>2039.750000</td>\n",
       "      <td>63.741476</td>\n",
       "      <td>2214.000000</td>\n",
       "      <td>2682.750000</td>\n",
       "      <td>2775.000000</td>\n",
       "      <td>2522.750000</td>\n",
       "      <td>44.600000</td>\n",
       "      <td>88.725000</td>\n",
       "      <td>2.180639</td>\n",
       "    </tr>\n",
       "  </tbody>\n",
       "</table>\n",
       "</div>"
      ],
      "text/plain": [
       "            CO(GT)  PT08.S1(CO)     C6H6(GT)  PT08.S2(NMHC)  PT08.S3(NOx)  \\\n",
       "count  7715.000000  7715.000000  7715.000000    7715.000000   7715.000000   \n",
       "mean      2.205635  1111.994511    10.364336     950.533117    824.452117   \n",
       "std       1.414443   213.679333     7.285752     259.847103    251.514474   \n",
       "min       0.100000   647.250000     0.149048     383.250000    322.000000   \n",
       "25%       1.200000   955.500000     4.904878     758.625000    655.375000   \n",
       "50%       2.000000  1089.250000     9.004199     939.500000    801.500000   \n",
       "75%       2.800000  1235.500000    14.096486    1119.750000    944.000000   \n",
       "max      11.900000  2039.750000    63.741476    2214.000000   2682.750000   \n",
       "\n",
       "       PT08.S4(NO2)  PT08.S5(O3)            T           RH           AH  \n",
       "count   7715.000000  7715.000000  7715.000000  7715.000000  7715.000000  \n",
       "mean    1451.890944  1045.593388    17.962874    48.773557     0.994757  \n",
       "std      346.049106   397.319524     8.811826    17.125681     0.395144  \n",
       "min      551.000000   221.000000    -1.900000     9.175000     0.184679  \n",
       "25%     1219.250000   760.500000    11.550000    35.750000     0.714983  \n",
       "50%     1451.890944  1013.250000    17.675000    48.773557     0.987521  \n",
       "75%     1672.375000  1290.125000    23.750000    61.600000     1.254426  \n",
       "max     2775.000000  2522.750000    44.600000    88.725000     2.180639  "
      ]
     },
     "execution_count": 6,
     "metadata": {},
     "output_type": "execute_result"
    }
   ],
   "source": [
    "# taking description of dataset\n",
    "\n",
    "data.describe()"
   ]
  },
  {
   "cell_type": "code",
   "execution_count": 7,
   "metadata": {},
   "outputs": [
    {
     "data": {
      "text/plain": [
       "[<matplotlib.lines.Line2D at 0x19ee1adba60>]"
      ]
     },
     "execution_count": 7,
     "metadata": {},
     "output_type": "execute_result"
    },
    {
     "data": {
      "image/png": "[encoded data removed]",
      "text/plain": [
       "<Figure size 432x288 with 1 Axes>"
      ]
     },
     "metadata": {
      "needs_background": "light"
     },
     "output_type": "display_data"
    }
   ],
   "source": [
    "# plot of temperature vs time\n",
    "\n",
    "plt.plot(data['Date'],data['T'].rolling(30).mean())"
   ]
  },
  {
   "cell_type": "code",
   "execution_count": 8,
   "metadata": {},
   "outputs": [
    {
     "data": {
      "text/plain": [
       "[<matplotlib.lines.Line2D at 0x19ee1676be0>]"
      ]
     },
     "execution_count": 8,
     "metadata": {},
     "output_type": "execute_result"
    },
    {
     "data": {
      "image/png": "[encoded data removed]",
      "text/plain": [
       "<Figure size 432x288 with 1 Axes>"
      ]
     },
     "metadata": {
      "needs_background": "light"
     },
     "output_type": "display_data"
    }
   ],
   "source": [
    "# plot of Relative humidity vs time\n",
    "\n",
    "plt.plot(data['Date'],data['RH'].rolling(30).mean())"
   ]
  },
  {
   "cell_type": "code",
   "execution_count": 9,
   "metadata": {},
   "outputs": [
    {
     "data": {
      "text/plain": [
       "[<matplotlib.lines.Line2D at 0x19ee17dccd0>]"
      ]
     },
     "execution_count": 9,
     "metadata": {},
     "output_type": "execute_result"
    },
    {
     "data": {
      "image/png": "[encoded data removed]",
      "text/plain": [
       "<Figure size 432x288 with 1 Axes>"
      ]
     },
     "metadata": {
      "needs_background": "light"
     },
     "output_type": "display_data"
    }
   ],
   "source": [
    "# plot of Absolute humidity vs time\n",
    "\n",
    "plt.plot(data['Date'],data['AH'].rolling(30).mean())"
   ]
  },
  {
   "cell_type": "code",
   "execution_count": 10,
   "metadata": {},
   "outputs": [
    {
     "data": {
      "text/plain": [
       "<matplotlib.axes._subplots.AxesSubplot at 0x19ee1ae1c40>"
      ]
     },
     "execution_count": 10,
     "metadata": {},
     "output_type": "execute_result"
    },
    {
     "data": {
      "image/png": "[encoded data removed]",
      "text/plain": [
       "<Figure size 432x288 with 1 Axes>"
      ]
     },
     "metadata": {
      "needs_background": "light"
     },
     "output_type": "display_data"
    }
   ],
   "source": [
    "# removal of outliers\n",
    "\n",
    "sns.boxplot(data['CO(GT)'])\n",
    "data['CO(GT)']=np.where(data['CO(GT)']<-0.5,-0.5,data['CO(GT)'])\n",
    "data['CO(GT)']=np.where(data['CO(GT)']>5.1,5.1,data['CO(GT)'])\n",
    "sns.boxplot(data['CO(GT)'])\n"
   ]
  },
  {
   "cell_type": "code",
   "execution_count": 11,
   "metadata": {},
   "outputs": [
    {
     "data": {
      "text/plain": [
       "<matplotlib.axes._subplots.AxesSubplot at 0x19ee00bba90>"
      ]
     },
     "execution_count": 11,
     "metadata": {},
     "output_type": "execute_result"
    },
    {
     "data": {
      "image/png": "[encoded data removed]",
      "text/plain": [
       "<Figure size 432x288 with 1 Axes>"
      ]
     },
     "metadata": {
      "needs_background": "light"
     },
     "output_type": "display_data"
    }
   ],
   "source": [
    "sns.boxplot(data['PT08.S1(CO)'])\n",
    "data['PT08.S1(CO)']=np.where(data['PT08.S1(CO)']<641,641,data['PT08.S1(CO)'])\n",
    "data['PT08.S1(CO)']=np.where(data['PT08.S1(CO)']>1650,1650,data['PT08.S1(CO)'])\n",
    "sns.boxplot(data['PT08.S1(CO)'])"
   ]
  },
  {
   "cell_type": "code",
   "execution_count": 12,
   "metadata": {},
   "outputs": [
    {
     "data": {
      "text/plain": [
       "<matplotlib.axes._subplots.AxesSubplot at 0x19ee179aee0>"
      ]
     },
     "execution_count": 12,
     "metadata": {},
     "output_type": "execute_result"
    },
    {
     "data": {
      "image/png": "[encoded data removed]",
      "text/plain": [
       "<Figure size 432x288 with 1 Axes>"
      ]
     },
     "metadata": {
      "needs_background": "light"
     },
     "output_type": "display_data"
    }
   ],
   "source": [
    "sns.boxplot(data['C6H6(GT)'])\n",
    "data['C6H6(GT)']=np.where(data['C6H6(GT)']<-0.27,-0.27,data['C6H6(GT)'])\n",
    "data['C6H6(GT)']=np.where(data['C6H6(GT)']>27.2,27.2,data['C6H6(GT)'])\n",
    "sns.boxplot(data['C6H6(GT)'])\n"
   ]
  },
  {
   "cell_type": "code",
   "execution_count": 13,
   "metadata": {},
   "outputs": [
    {
     "data": {
      "text/plain": [
       "<matplotlib.axes._subplots.AxesSubplot at 0x19ee15c59a0>"
      ]
     },
     "execution_count": 13,
     "metadata": {},
     "output_type": "execute_result"
    },
    {
     "data": {
      "image/png": "[encoded data removed]",
      "text/plain": [
       "<Figure size 432x288 with 1 Axes>"
      ]
     },
     "metadata": {
      "needs_background": "light"
     },
     "output_type": "display_data"
    }
   ],
   "source": [
    "sns.boxplot(data['PT08.S2(NMHC)'])\n",
    "data['PT08.S2(NMHC)']=np.where(data['PT08.S2(NMHC)']<375,375,data['PT08.S2(NMHC)'])\n",
    "data['PT08.S2(NMHC)']=np.where(data['PT08.S2(NMHC)']>1660,1660,data['PT08.S2(NMHC)'])\n",
    "sns.boxplot(data['PT08.S2(NMHC)'])"
   ]
  },
  {
   "cell_type": "code",
   "execution_count": 14,
   "metadata": {},
   "outputs": [
    {
     "data": {
      "text/plain": [
       "<matplotlib.axes._subplots.AxesSubplot at 0x19ee15d1340>"
      ]
     },
     "execution_count": 14,
     "metadata": {},
     "output_type": "execute_result"
    },
    {
     "data": {
      "image/png": "[encoded data removed]",
      "text/plain": [
       "<Figure size 432x288 with 1 Axes>"
      ]
     },
     "metadata": {
      "needs_background": "light"
     },
     "output_type": "display_data"
    }
   ],
   "source": [
    "sns.boxplot(data['NOx(GT)'])\n",
    "data['NOx(GT)']=np.where(data['NOx(GT)']>632,632,data['NOx(GT)'])\n",
    "sns.boxplot(data['NOx(GT)'])\n"
   ]
  },
  {
   "cell_type": "code",
   "execution_count": 15,
   "metadata": {},
   "outputs": [
    {
     "data": {
      "text/plain": [
       "<matplotlib.axes._subplots.AxesSubplot at 0x19ee155d220>"
      ]
     },
     "execution_count": 15,
     "metadata": {},
     "output_type": "execute_result"
    },
    {
     "data": {
      "image/png": "[encoded data removed]",
      "text/plain": [
       "<Figure size 432x288 with 1 Axes>"
      ]
     },
     "metadata": {
      "needs_background": "light"
     },
     "output_type": "display_data"
    }
   ],
   "source": [
    "sns.boxplot(data['PT08.S3(NOx)'])\n",
    "data['PT08.S3(NOx)']=np.where(data['PT08.S3(NOx)']<314,314,data['PT08.S3(NOx)'])\n",
    "data['PT08.S3(NOx)']=np.where(data['PT08.S3(NOx)']>1375,1375,data['PT08.S3(NOx)'])\n",
    "sns.boxplot(data['PT08.S3(NOx)'])\n"
   ]
  },
  {
   "cell_type": "code",
   "execution_count": 16,
   "metadata": {},
   "outputs": [
    {
     "data": {
      "text/plain": [
       "<matplotlib.axes._subplots.AxesSubplot at 0x19ee1649fd0>"
      ]
     },
     "execution_count": 16,
     "metadata": {},
     "output_type": "execute_result"
    },
    {
     "data": {
      "image/png": "[encoded data removed]",
      "text/plain": [
       "<Figure size 432x288 with 1 Axes>"
      ]
     },
     "metadata": {
      "needs_background": "light"
     },
     "output_type": "display_data"
    }
   ],
   "source": [
    "\n",
    "sns.boxplot(data['NO2(GT)'])\n",
    "data['NO2(GT)']=np.where(data['NO2(GT)']<0.4,0.4,data['NO2(GT)'])\n",
    "data['NO2(GT)']=np.where(data['NO2(GT)']>235,235,data['NO2(GT)'])\n",
    "sns.boxplot(data['NO2(GT)'])\n"
   ]
  },
  {
   "cell_type": "code",
   "execution_count": 17,
   "metadata": {},
   "outputs": [
    {
     "data": {
      "text/plain": [
       "<matplotlib.axes._subplots.AxesSubplot at 0x19ee00f8b50>"
      ]
     },
     "execution_count": 17,
     "metadata": {},
     "output_type": "execute_result"
    },
    {
     "data": {
      "image/png": "[encoded data removed]",
      "text/plain": [
       "<Figure size 432x288 with 1 Axes>"
      ]
     },
     "metadata": {
      "needs_background": "light"
     },
     "output_type": "display_data"
    }
   ],
   "source": [
    "sns.boxplot(data['PT08.S4(NO2)'])\n",
    "data['PT08.S4(NO2)']=np.where(data['PT08.S4(NO2)']<541,541,data['PT08.S4(NO2)'])\n",
    "data['PT08.S4(NO2)']=np.where(data['PT08.S4(NO2)']>2335,2335,data['PT08.S4(NO2)'])\n",
    "sns.boxplot(data['PT08.S4(NO2)'])"
   ]
  },
  {
   "cell_type": "code",
   "execution_count": 18,
   "metadata": {},
   "outputs": [
    {
     "data": {
      "text/plain": [
       "<matplotlib.axes._subplots.AxesSubplot at 0x19ee038f0d0>"
      ]
     },
     "execution_count": 18,
     "metadata": {},
     "output_type": "execute_result"
    },
    {
     "data": {
      "image/png": "[encoded data removed]",
      "text/plain": [
       "<Figure size 432x288 with 1 Axes>"
      ]
     },
     "metadata": {
      "needs_background": "light"
     },
     "output_type": "display_data"
    }
   ],
   "source": [
    "sns.boxplot(data['PT08.S5(O3)'])\n",
    "data['PT08.S5(O3)']=np.where(data['PT08.S5(O3)']<213,213,data['PT08.S5(O3)'])\n",
    "data['PT08.S5(O3)']=np.where(data['PT08.S5(O3)']>2080,2080,data['PT08.S5(O3)'])\n",
    "sns.boxplot(data['PT08.S5(O3)'])\n"
   ]
  },
  {
   "cell_type": "code",
   "execution_count": 19,
   "metadata": {},
   "outputs": [
    {
     "data": {
      "text/plain": [
       "<matplotlib.axes._subplots.AxesSubplot at 0x19ee02bf1c0>"
      ]
     },
     "execution_count": 19,
     "metadata": {},
     "output_type": "execute_result"
    },
    {
     "data": {
      "image/png": "[encoded data removed]",
      "text/plain": [
       "<Figure size 432x288 with 1 Axes>"
      ]
     },
     "metadata": {
      "needs_background": "light"
     },
     "output_type": "display_data"
    }
   ],
   "source": [
    "sns.boxplot(data['T'])\n",
    "data['T']=np.where(data['T']<-2.2,-2.2,data['T'])\n",
    "data['T']=np.where(data['T']>42,42,data['T'])\n",
    "sns.boxplot(data['T'])\n"
   ]
  },
  {
   "cell_type": "code",
   "execution_count": 20,
   "metadata": {},
   "outputs": [
    {
     "data": {
      "text/plain": [
       "<matplotlib.axes._subplots.AxesSubplot at 0x19ee15dfd90>"
      ]
     },
     "execution_count": 20,
     "metadata": {},
     "output_type": "execute_result"
    },
    {
     "data": {
      "image/png": "[encoded data removed]",
      "text/plain": [
       "<Figure size 432x288 with 1 Axes>"
      ]
     },
     "metadata": {
      "needs_background": "light"
     },
     "output_type": "display_data"
    }
   ],
   "source": [
    "sns.boxplot(data['RH'])\n",
    "data['RH']=np.where(data['RH']<8.3,8.3,data['RH'])\n",
    "sns.boxplot(data['RH'])"
   ]
  },
  {
   "cell_type": "code",
   "execution_count": 21,
   "metadata": {},
   "outputs": [
    {
     "data": {
      "text/plain": [
       "<matplotlib.axes._subplots.AxesSubplot at 0x19ee029fbb0>"
      ]
     },
     "execution_count": 21,
     "metadata": {},
     "output_type": "execute_result"
    },
    {
     "data": {
      "image/png": "[encoded data removed]",
      "text/plain": [
       "<Figure size 432x288 with 1 Axes>"
      ]
     },
     "metadata": {
      "needs_background": "light"
     },
     "output_type": "display_data"
    }
   ],
   "source": [
    "sns.boxplot(data['AH'])\n",
    "data['AH']=np.where(data['AH']<0.2,0.2,data['AH'])\n",
    "data['AH']=np.where(data['AH']>2,2,data['AH'])\n",
    "sns.boxplot(data['AH'])\n"
   ]
  },
  {
   "cell_type": "code",
   "execution_count": 22,
   "metadata": {},
   "outputs": [
    {
     "data": {
      "text/html": [
       "<div>\n",
       "<style scoped>\n",
       "    .dataframe tbody tr th:only-of-type {\n",
       "        vertical-align: middle;\n",
       "    }\n",
       "\n",
       "    .dataframe tbody tr th {\n",
       "        vertical-align: top;\n",
       "    }\n",
       "\n",
       "    .dataframe thead th {\n",
       "        text-align: right;\n",
       "    }\n",
       "</style>\n",
       "<table border=\"1\" class=\"dataframe\">\n",
       "  <thead>\n",
       "    <tr style=\"text-align: right;\">\n",
       "      <th></th>\n",
       "      <th>CO(GT)</th>\n",
       "      <th>PT08.S1(CO)</th>\n",
       "      <th>C6H6(GT)</th>\n",
       "      <th>PT08.S2(NMHC)</th>\n",
       "      <th>PT08.S3(NOx)</th>\n",
       "      <th>PT08.S4(NO2)</th>\n",
       "      <th>PT08.S5(O3)</th>\n",
       "      <th>T</th>\n",
       "      <th>RH</th>\n",
       "      <th>AH</th>\n",
       "    </tr>\n",
       "  </thead>\n",
       "  <tbody>\n",
       "    <tr>\n",
       "      <th>count</th>\n",
       "      <td>7715.000000</td>\n",
       "      <td>7715.000000</td>\n",
       "      <td>7715.000000</td>\n",
       "      <td>7715.000000</td>\n",
       "      <td>7715.000000</td>\n",
       "      <td>7715.000000</td>\n",
       "      <td>7715.000000</td>\n",
       "      <td>7715.000000</td>\n",
       "      <td>7715.000000</td>\n",
       "      <td>7715.000000</td>\n",
       "    </tr>\n",
       "    <tr>\n",
       "      <th>mean</th>\n",
       "      <td>2.153425</td>\n",
       "      <td>1110.159881</td>\n",
       "      <td>10.184518</td>\n",
       "      <td>949.496176</td>\n",
       "      <td>817.085051</td>\n",
       "      <td>1450.293461</td>\n",
       "      <td>1043.766406</td>\n",
       "      <td>17.961302</td>\n",
       "      <td>48.773557</td>\n",
       "      <td>0.994298</td>\n",
       "    </tr>\n",
       "    <tr>\n",
       "      <th>std</th>\n",
       "      <td>1.255275</td>\n",
       "      <td>208.192739</td>\n",
       "      <td>6.699530</td>\n",
       "      <td>256.545730</td>\n",
       "      <td>227.446252</td>\n",
       "      <td>341.415467</td>\n",
       "      <td>391.939113</td>\n",
       "      <td>8.807399</td>\n",
       "      <td>17.125681</td>\n",
       "      <td>0.393891</td>\n",
       "    </tr>\n",
       "    <tr>\n",
       "      <th>min</th>\n",
       "      <td>0.100000</td>\n",
       "      <td>647.250000</td>\n",
       "      <td>0.149048</td>\n",
       "      <td>383.250000</td>\n",
       "      <td>322.000000</td>\n",
       "      <td>551.000000</td>\n",
       "      <td>221.000000</td>\n",
       "      <td>-1.900000</td>\n",
       "      <td>9.175000</td>\n",
       "      <td>0.200000</td>\n",
       "    </tr>\n",
       "    <tr>\n",
       "      <th>25%</th>\n",
       "      <td>1.200000</td>\n",
       "      <td>955.500000</td>\n",
       "      <td>4.904878</td>\n",
       "      <td>758.625000</td>\n",
       "      <td>655.375000</td>\n",
       "      <td>1219.250000</td>\n",
       "      <td>760.500000</td>\n",
       "      <td>11.550000</td>\n",
       "      <td>35.750000</td>\n",
       "      <td>0.714983</td>\n",
       "    </tr>\n",
       "    <tr>\n",
       "      <th>50%</th>\n",
       "      <td>2.000000</td>\n",
       "      <td>1089.250000</td>\n",
       "      <td>9.004199</td>\n",
       "      <td>939.500000</td>\n",
       "      <td>801.500000</td>\n",
       "      <td>1451.890944</td>\n",
       "      <td>1013.250000</td>\n",
       "      <td>17.675000</td>\n",
       "      <td>48.773557</td>\n",
       "      <td>0.987521</td>\n",
       "    </tr>\n",
       "    <tr>\n",
       "      <th>75%</th>\n",
       "      <td>2.800000</td>\n",
       "      <td>1235.500000</td>\n",
       "      <td>14.096486</td>\n",
       "      <td>1119.750000</td>\n",
       "      <td>944.000000</td>\n",
       "      <td>1672.375000</td>\n",
       "      <td>1290.125000</td>\n",
       "      <td>23.750000</td>\n",
       "      <td>61.600000</td>\n",
       "      <td>1.254426</td>\n",
       "    </tr>\n",
       "    <tr>\n",
       "      <th>max</th>\n",
       "      <td>5.100000</td>\n",
       "      <td>1650.000000</td>\n",
       "      <td>27.200000</td>\n",
       "      <td>1660.000000</td>\n",
       "      <td>1375.000000</td>\n",
       "      <td>2335.000000</td>\n",
       "      <td>2080.000000</td>\n",
       "      <td>42.000000</td>\n",
       "      <td>88.725000</td>\n",
       "      <td>2.000000</td>\n",
       "    </tr>\n",
       "  </tbody>\n",
       "</table>\n",
       "</div>"
      ],
      "text/plain": [
       "            CO(GT)  PT08.S1(CO)     C6H6(GT)  PT08.S2(NMHC)  PT08.S3(NOx)  \\\n",
       "count  7715.000000  7715.000000  7715.000000    7715.000000   7715.000000   \n",
       "mean      2.153425  1110.159881    10.184518     949.496176    817.085051   \n",
       "std       1.255275   208.192739     6.699530     256.545730    227.446252   \n",
       "min       0.100000   647.250000     0.149048     383.250000    322.000000   \n",
       "25%       1.200000   955.500000     4.904878     758.625000    655.375000   \n",
       "50%       2.000000  1089.250000     9.004199     939.500000    801.500000   \n",
       "75%       2.800000  1235.500000    14.096486    1119.750000    944.000000   \n",
       "max       5.100000  1650.000000    27.200000    1660.000000   1375.000000   \n",
       "\n",
       "       PT08.S4(NO2)  PT08.S5(O3)            T           RH           AH  \n",
       "count   7715.000000  7715.000000  7715.000000  7715.000000  7715.000000  \n",
       "mean    1450.293461  1043.766406    17.961302    48.773557     0.994298  \n",
       "std      341.415467   391.939113     8.807399    17.125681     0.393891  \n",
       "min      551.000000   221.000000    -1.900000     9.175000     0.200000  \n",
       "25%     1219.250000   760.500000    11.550000    35.750000     0.714983  \n",
       "50%     1451.890944  1013.250000    17.675000    48.773557     0.987521  \n",
       "75%     1672.375000  1290.125000    23.750000    61.600000     1.254426  \n",
       "max     2335.000000  2080.000000    42.000000    88.725000     2.000000  "
      ]
     },
     "execution_count": 22,
     "metadata": {},
     "output_type": "execute_result"
    }
   ],
   "source": [
    "data.describe()"
   ]
  },
  {
   "cell_type": "code",
   "execution_count": 23,
   "metadata": {},
   "outputs": [
    {
     "data": {
      "text/html": [
       "<div>\n",
       "<style scoped>\n",
       "    .dataframe tbody tr th:only-of-type {\n",
       "        vertical-align: middle;\n",
       "    }\n",
       "\n",
       "    .dataframe tbody tr th {\n",
       "        vertical-align: top;\n",
       "    }\n",
       "\n",
       "    .dataframe thead th {\n",
       "        text-align: right;\n",
       "    }\n",
       "</style>\n",
       "<table border=\"1\" class=\"dataframe\">\n",
       "  <thead>\n",
       "    <tr style=\"text-align: right;\">\n",
       "      <th></th>\n",
       "      <th>CO(GT)</th>\n",
       "      <th>PT08.S1(CO)</th>\n",
       "      <th>C6H6(GT)</th>\n",
       "      <th>PT08.S2(NMHC)</th>\n",
       "      <th>PT08.S3(NOx)</th>\n",
       "      <th>PT08.S4(NO2)</th>\n",
       "      <th>PT08.S5(O3)</th>\n",
       "      <th>T</th>\n",
       "      <th>RH</th>\n",
       "      <th>AH</th>\n",
       "    </tr>\n",
       "  </thead>\n",
       "  <tbody>\n",
       "    <tr>\n",
       "      <th>CO(GT)</th>\n",
       "      <td>1.000000</td>\n",
       "      <td>0.829164</td>\n",
       "      <td>0.878366</td>\n",
       "      <td>0.863641</td>\n",
       "      <td>-0.707616</td>\n",
       "      <td>0.590840</td>\n",
       "      <td>0.812521</td>\n",
       "      <td>0.028462</td>\n",
       "      <td>0.048288</td>\n",
       "      <td>0.056666</td>\n",
       "    </tr>\n",
       "    <tr>\n",
       "      <th>PT08.S1(CO)</th>\n",
       "      <td>0.829164</td>\n",
       "      <td>1.000000</td>\n",
       "      <td>0.883488</td>\n",
       "      <td>0.887214</td>\n",
       "      <td>-0.807206</td>\n",
       "      <td>0.665397</td>\n",
       "      <td>0.898899</td>\n",
       "      <td>0.039615</td>\n",
       "      <td>0.150216</td>\n",
       "      <td>0.148184</td>\n",
       "    </tr>\n",
       "    <tr>\n",
       "      <th>C6H6(GT)</th>\n",
       "      <td>0.878366</td>\n",
       "      <td>0.883488</td>\n",
       "      <td>1.000000</td>\n",
       "      <td>0.988645</td>\n",
       "      <td>-0.787750</td>\n",
       "      <td>0.761860</td>\n",
       "      <td>0.870638</td>\n",
       "      <td>0.217915</td>\n",
       "      <td>-0.055631</td>\n",
       "      <td>0.191125</td>\n",
       "    </tr>\n",
       "    <tr>\n",
       "      <th>PT08.S2(NMHC)</th>\n",
       "      <td>0.863641</td>\n",
       "      <td>0.887214</td>\n",
       "      <td>0.988645</td>\n",
       "      <td>1.000000</td>\n",
       "      <td>-0.823125</td>\n",
       "      <td>0.771126</td>\n",
       "      <td>0.877859</td>\n",
       "      <td>0.247514</td>\n",
       "      <td>-0.072308</td>\n",
       "      <td>0.208528</td>\n",
       "    </tr>\n",
       "    <tr>\n",
       "      <th>PT08.S3(NOx)</th>\n",
       "      <td>-0.707616</td>\n",
       "      <td>-0.807206</td>\n",
       "      <td>-0.787750</td>\n",
       "      <td>-0.823125</td>\n",
       "      <td>1.000000</td>\n",
       "      <td>-0.533050</td>\n",
       "      <td>-0.831945</td>\n",
       "      <td>-0.114146</td>\n",
       "      <td>-0.099672</td>\n",
       "      <td>-0.227510</td>\n",
       "    </tr>\n",
       "    <tr>\n",
       "      <th>PT08.S4(NO2)</th>\n",
       "      <td>0.590840</td>\n",
       "      <td>0.665397</td>\n",
       "      <td>0.761860</td>\n",
       "      <td>0.771126</td>\n",
       "      <td>-0.533050</td>\n",
       "      <td>1.000000</td>\n",
       "      <td>0.575076</td>\n",
       "      <td>0.581928</td>\n",
       "      <td>-0.029488</td>\n",
       "      <td>0.657022</td>\n",
       "    </tr>\n",
       "    <tr>\n",
       "      <th>PT08.S5(O3)</th>\n",
       "      <td>0.812521</td>\n",
       "      <td>0.898899</td>\n",
       "      <td>0.870638</td>\n",
       "      <td>0.877859</td>\n",
       "      <td>-0.831945</td>\n",
       "      <td>0.575076</td>\n",
       "      <td>1.000000</td>\n",
       "      <td>-0.031785</td>\n",
       "      <td>0.148290</td>\n",
       "      <td>0.080408</td>\n",
       "    </tr>\n",
       "    <tr>\n",
       "      <th>T</th>\n",
       "      <td>0.028462</td>\n",
       "      <td>0.039615</td>\n",
       "      <td>0.217915</td>\n",
       "      <td>0.247514</td>\n",
       "      <td>-0.114146</td>\n",
       "      <td>0.581928</td>\n",
       "      <td>-0.031785</td>\n",
       "      <td>1.000000</td>\n",
       "      <td>-0.574733</td>\n",
       "      <td>0.662421</td>\n",
       "    </tr>\n",
       "    <tr>\n",
       "      <th>RH</th>\n",
       "      <td>0.048288</td>\n",
       "      <td>0.150216</td>\n",
       "      <td>-0.055631</td>\n",
       "      <td>-0.072308</td>\n",
       "      <td>-0.099672</td>\n",
       "      <td>-0.029488</td>\n",
       "      <td>0.148290</td>\n",
       "      <td>-0.574733</td>\n",
       "      <td>1.000000</td>\n",
       "      <td>0.165169</td>\n",
       "    </tr>\n",
       "    <tr>\n",
       "      <th>AH</th>\n",
       "      <td>0.056666</td>\n",
       "      <td>0.148184</td>\n",
       "      <td>0.191125</td>\n",
       "      <td>0.208528</td>\n",
       "      <td>-0.227510</td>\n",
       "      <td>0.657022</td>\n",
       "      <td>0.080408</td>\n",
       "      <td>0.662421</td>\n",
       "      <td>0.165169</td>\n",
       "      <td>1.000000</td>\n",
       "    </tr>\n",
       "  </tbody>\n",
       "</table>\n",
       "</div>"
      ],
      "text/plain": [
       "                 CO(GT)  PT08.S1(CO)  C6H6(GT)  PT08.S2(NMHC)  PT08.S3(NOx)  \\\n",
       "CO(GT)         1.000000     0.829164  0.878366       0.863641     -0.707616   \n",
       "PT08.S1(CO)    0.829164     1.000000  0.883488       0.887214     -0.807206   \n",
       "C6H6(GT)       0.878366     0.883488  1.000000       0.988645     -0.787750   \n",
       "PT08.S2(NMHC)  0.863641     0.887214  0.988645       1.000000     -0.823125   \n",
       "PT08.S3(NOx)  -0.707616    -0.807206 -0.787750      -0.823125      1.000000   \n",
       "PT08.S4(NO2)   0.590840     0.665397  0.761860       0.771126     -0.533050   \n",
       "PT08.S5(O3)    0.812521     0.898899  0.870638       0.877859     -0.831945   \n",
       "T              0.028462     0.039615  0.217915       0.247514     -0.114146   \n",
       "RH             0.048288     0.150216 -0.055631      -0.072308     -0.099672   \n",
       "AH             0.056666     0.148184  0.191125       0.208528     -0.227510   \n",
       "\n",
       "               PT08.S4(NO2)  PT08.S5(O3)         T        RH        AH  \n",
       "CO(GT)             0.590840     0.812521  0.028462  0.048288  0.056666  \n",
       "PT08.S1(CO)        0.665397     0.898899  0.039615  0.150216  0.148184  \n",
       "C6H6(GT)           0.761860     0.870638  0.217915 -0.055631  0.191125  \n",
       "PT08.S2(NMHC)      0.771126     0.877859  0.247514 -0.072308  0.208528  \n",
       "PT08.S3(NOx)      -0.533050    -0.831945 -0.114146 -0.099672 -0.227510  \n",
       "PT08.S4(NO2)       1.000000     0.575076  0.581928 -0.029488  0.657022  \n",
       "PT08.S5(O3)        0.575076     1.000000 -0.031785  0.148290  0.080408  \n",
       "T                  0.581928    -0.031785  1.000000 -0.574733  0.662421  \n",
       "RH                -0.029488     0.148290 -0.574733  1.000000  0.165169  \n",
       "AH                 0.657022     0.080408  0.662421  0.165169  1.000000  "
      ]
     },
     "execution_count": 23,
     "metadata": {},
     "output_type": "execute_result"
    }
   ],
   "source": [
    "# finding correlation matrix which helps in finding the relationship between target variable and predictors\n",
    "\n",
    "data.corr()"
   ]
  },
  {
   "cell_type": "code",
   "execution_count": 25,
   "metadata": {
    "scrolled": true
   },
   "outputs": [
    {
     "data": {
      "text/plain": [
       "<matplotlib.collections.PathCollection at 0x19ee6f7aa00>"
      ]
     },
     "execution_count": 25,
     "metadata": {},
     "output_type": "execute_result"
    },
    {
     "data": {
      "image/png": "[encoded data removed]",
      "text/plain": [
       "<Figure size 432x288 with 1 Axes>"
      ]
     },
     "metadata": {
      "needs_background": "light"
     },
     "output_type": "display_data"
    }
   ],
   "source": [
    "plt.scatter(data['PT08.S4(NO2)'],data['T'])"
   ]
  },
  {
   "cell_type": "code",
   "execution_count": 26,
   "metadata": {},
   "outputs": [
    {
     "data": {
      "text/plain": [
       "<matplotlib.collections.PathCollection at 0x19ee6fea6a0>"
      ]
     },
     "execution_count": 26,
     "metadata": {},
     "output_type": "execute_result"
    },
    {
     "data": {
      "image/png": "[encoded data removed]",
      "text/plain": [
       "<Figure size 432x288 with 1 Axes>"
      ]
     },
     "metadata": {
      "needs_background": "light"
     },
     "output_type": "display_data"
    }
   ],
   "source": [
    "plt.scatter(data['PT08.S1(CO)'],data['RH'])"
   ]
  },
  {
   "cell_type": "code",
   "execution_count": 27,
   "metadata": {},
   "outputs": [
    {
     "data": {
      "text/plain": [
       "<matplotlib.collections.PathCollection at 0x19ee6fa6d00>"
      ]
     },
     "execution_count": 27,
     "metadata": {},
     "output_type": "execute_result"
    },
    {
     "data": {
      "image/png": "[encoded data removed]",
      "text/plain": [
       "<Figure size 432x288 with 1 Axes>"
      ]
     },
     "metadata": {
      "needs_background": "light"
     },
     "output_type": "display_data"
    }
   ],
   "source": [
    "plt.scatter(data['PT08.S4(NO2)'],data['AH'])"
   ]
  },
  {
   "cell_type": "code",
   "execution_count": 28,
   "metadata": {},
   "outputs": [
    {
     "name": "stdout",
     "output_type": "stream",
     "text": [
      "(0, 'Date')\n",
      "(1, 'Time')\n",
      "(2, 'CO(GT)')\n",
      "(3, 'PT08.S1(CO)')\n",
      "(4, 'C6H6(GT)')\n",
      "(5, 'PT08.S2(NMHC)')\n",
      "(6, 'NOx(GT)')\n",
      "(7, 'PT08.S3(NOx)')\n",
      "(8, 'NO2(GT)')\n",
      "(9, 'PT08.S4(NO2)')\n",
      "(10, 'PT08.S5(O3)')\n",
      "(11, 'T')\n",
      "(12, 'RH')\n",
      "(13, 'AH')\n"
     ]
    }
   ],
   "source": [
    "# finding the index position of features in the dataset\n",
    "\n",
    "for e in enumerate(data.columns):\n",
    "    print(e)"
   ]
  },
  {
   "cell_type": "code",
   "execution_count": 31,
   "metadata": {},
   "outputs": [
    {
     "data": {
      "text/plain": [
       "array([13.5999999 , 13.29999995, 11.9000001 , ..., 26.89999962,\n",
       "       28.32499981, 28.50000048])"
      ]
     },
     "execution_count": 31,
     "metadata": {},
     "output_type": "execute_result"
    }
   ],
   "source": [
    "# diving dataset into predictors and target variables\n",
    "\n",
    "X=data.iloc[:,2:11].values\n",
    "y_temp=data.iloc[:,11].values\n",
    "y_RH=data.iloc[:,12].values\n",
    "y_AH=data.iloc[:,13].values\n"
   ]
  },
  {
   "cell_type": "code",
   "execution_count": 32,
   "metadata": {},
   "outputs": [
    {
     "data": {
      "text/plain": [
       "array([[ 0.3557816 ,  1.2001202 ,  0.25334843, ...,  0.00659643,\n",
       "         0.70800016,  0.57087463],\n",
       "       [-0.12223227,  0.8746795 , -0.11753128, ..., -0.43851851,\n",
       "         0.31768792, -0.18247998],\n",
       "       [ 0.03710568,  1.40186942, -0.17714351, ...,  0.02779238,\n",
       "         0.30523893,  0.0771435 ],\n",
       "       ...,\n",
       "       [ 0.19644364,  0.15294569,  0.32691283, ...,  1.31438653,\n",
       "        -0.61378895,  0.12307197],\n",
       "       [-0.0425633 , -0.51714992, -0.09513695, ...,  0.91166348,\n",
       "        -1.19889117, -0.69917535],\n",
       "       [ 0.03710568, -0.18930744,  0.26086235, ...,  1.16601488,\n",
       "        -0.94258857, -0.58116468]])"
      ]
     },
     "execution_count": 32,
     "metadata": {},
     "output_type": "execute_result"
    }
   ],
   "source": [
    "# performing feature scaling\n",
    "\n",
    "from sklearn.preprocessing import StandardScaler\n",
    "std=StandardScaler()\n",
    "X=std.fit_transform(X)\n",
    "X"
   ]
  },
  {
   "cell_type": "code",
   "execution_count": 179,
   "metadata": {},
   "outputs": [],
   "source": [
    "# finding the feature importance\n",
    "\n",
    "from sklearn.tree import DecisionTreeRegressor\n",
    "dt=DecisionTreeRegressor()"
   ]
  },
  {
   "cell_type": "code",
   "execution_count": 180,
   "metadata": {},
   "outputs": [
    {
     "data": {
      "image/png": "[encoded data removed]",
      "text/plain": [
       "<Figure size 432x288 with 1 Axes>"
      ]
     },
     "metadata": {
      "needs_background": "light"
     },
     "output_type": "display_data"
    }
   ],
   "source": [
    "#this is for temprature\n",
    "\n",
    "dt.fit(X,y_temp)\n",
    "importance=dt.feature_importances_\n",
    "plt.bar([x for x in range(len(importance))],importance)\n",
    "plt.show()\n",
    "\n",
    "# 4,5,8,7"
   ]
  },
  {
   "cell_type": "code",
   "execution_count": 181,
   "metadata": {},
   "outputs": [
    {
     "data": {
      "image/png": "[encoded data removed]",
      "text/plain": [
       "<Figure size 432x288 with 1 Axes>"
      ]
     },
     "metadata": {
      "needs_background": "light"
     },
     "output_type": "display_data"
    }
   ],
   "source": [
    "#this is for relative humidity\n",
    "\n",
    "dt.fit(X,y_RH)\n",
    "importance=dt.feature_importances_\n",
    "plt.bar([x for x in range(len(importance))],importance)\n",
    "plt.show()\n",
    "\n",
    "# 1,2,3,4,6,7,8"
   ]
  },
  {
   "cell_type": "code",
   "execution_count": 182,
   "metadata": {},
   "outputs": [
    {
     "data": {
      "image/png": "[encoded data removed]",
      "text/plain": [
       "<Figure size 432x288 with 1 Axes>"
      ]
     },
     "metadata": {
      "needs_background": "light"
     },
     "output_type": "display_data"
    }
   ],
   "source": [
    "#this is for absolute humidity\n",
    "\n",
    "dt.fit(X,y_AH)\n",
    "importance=dt.feature_importances_\n",
    "plt.bar([x for x in range(len(importance))],importance)\n",
    "plt.show()\n",
    "\n",
    "# 3,5,6,7"
   ]
  },
  {
   "cell_type": "code",
   "execution_count": 33,
   "metadata": {},
   "outputs": [
    {
     "data": {
      "text/plain": [
       "RandomForestRegressor()"
      ]
     },
     "execution_count": 33,
     "metadata": {},
     "output_type": "execute_result"
    }
   ],
   "source": [
    "# dividing dataset into train and test sets\n",
    "# building model and fitting of data \n",
    "\n",
    "# this is for temperature\n",
    "\n",
    "from sklearn.model_selection import train_test_split\n",
    "X_train,X_test,y_temp_train,y_temp_test=train_test_split(X,y_temp,test_size=0.15,random_state=30)\n",
    "\n",
    "from sklearn.ensemble import RandomForestRegressor\n",
    "model_temp=RandomForestRegressor()\n",
    "model_temp.fit(X_train,y_temp_train)"
   ]
  },
  {
   "cell_type": "code",
   "execution_count": 35,
   "metadata": {},
   "outputs": [
    {
     "name": "stdout",
     "output_type": "stream",
     "text": [
      "Train set acccuracy : 0.9776800172380248\n",
      "Test set accuracy : 0.8564772308492176\n"
     ]
    }
   ],
   "source": [
    "print(f'Train set acccuracy : {model_temp.score(X_train,y_temp_train)}\\nTest set accuracy : {model_temp.score(X_test,y_temp_test)}')"
   ]
  },
  {
   "cell_type": "code",
   "execution_count": 36,
   "metadata": {},
   "outputs": [
    {
     "data": {
      "text/plain": [
       "RandomForestRegressor()"
      ]
     },
     "execution_count": 36,
     "metadata": {},
     "output_type": "execute_result"
    }
   ],
   "source": [
    "# dividing dataset into train and test sets\n",
    "# building model and fitting of data\n",
    "\n",
    "# this is for RH\n",
    "\n",
    "from sklearn.model_selection import train_test_split\n",
    "X_train,X_test,y_RH_train,y_RH_test=train_test_split(X,y_RH,test_size=0.15,random_state=30)\n",
    "\n",
    "from sklearn.ensemble import RandomForestRegressor\n",
    "model_RH=RandomForestRegressor()\n",
    "model_RH.fit(X_train,y_RH_train)"
   ]
  },
  {
   "cell_type": "code",
   "execution_count": 37,
   "metadata": {},
   "outputs": [
    {
     "name": "stdout",
     "output_type": "stream",
     "text": [
      "Train set acccuracy : 0.9613885440756971\n",
      "Test set accuracy : 0.7526197754707884\n"
     ]
    }
   ],
   "source": [
    "print(f'Train set acccuracy : {model_RH.score(X_train,y_RH_train)}\\nTest set accuracy : {model_RH.score(X_test,y_RH_test)}')"
   ]
  },
  {
   "cell_type": "code",
   "execution_count": 38,
   "metadata": {},
   "outputs": [
    {
     "data": {
      "text/plain": [
       "RandomForestRegressor()"
      ]
     },
     "execution_count": 38,
     "metadata": {},
     "output_type": "execute_result"
    }
   ],
   "source": [
    "# dividing dataset into train and test sets\n",
    "# building model and fitting of data\n",
    "\n",
    "# this is for AH\n",
    "\n",
    "from sklearn.model_selection import train_test_split\n",
    "X_train,X_test,y_AH_train,y_AH_test=train_test_split(X,y_AH,test_size=0.15,random_state=30)\n",
    "\n",
    "from sklearn.ensemble import RandomForestRegressor\n",
    "model_AH=RandomForestRegressor()\n",
    "model_AH.fit(X_train,y_AH_train)"
   ]
  },
  {
   "cell_type": "code",
   "execution_count": 39,
   "metadata": {},
   "outputs": [
    {
     "name": "stdout",
     "output_type": "stream",
     "text": [
      "Train set acccuracy : 0.9900700651433264\n",
      "Test set accuracy : 0.931368604156687\n"
     ]
    }
   ],
   "source": [
    "print(f'Train set acccuracy : {model_AH.score(X_train,y_AH_train)}\\nTest set accuracy : {model_AH.score(X_test,y_AH_test)}')"
   ]
  },
  {
   "cell_type": "code",
   "execution_count": 40,
   "metadata": {},
   "outputs": [
    {
     "data": {
      "text/plain": [
       "array([21.38400001, 19.2620834 ,  8.16725003, ..., 34.80533337,\n",
       "       18.59241661, 32.50458328])"
      ]
     },
     "execution_count": 40,
     "metadata": {},
     "output_type": "execute_result"
    }
   ],
   "source": [
    "# taking prediction from test set\n",
    "\n",
    "y_temp_pred=model_temp.predict(X_test)\n",
    "y_temp_pred"
   ]
  },
  {
   "cell_type": "code",
   "execution_count": 41,
   "metadata": {},
   "outputs": [
    {
     "data": {
      "text/plain": [
       "array([25.5       , 18.89999962,  9.12499976, ..., 33.57499886,\n",
       "       12.875     , 34.57500029])"
      ]
     },
     "execution_count": 41,
     "metadata": {},
     "output_type": "execute_result"
    }
   ],
   "source": [
    "y_temp_test"
   ]
  },
  {
   "cell_type": "code",
   "execution_count": 42,
   "metadata": {},
   "outputs": [
    {
     "name": "stdout",
     "output_type": "stream",
     "text": [
      "Enter the value of CO(GT) : 2.6\n",
      "Enter the value of PT08.S1(CO) : 1360\n",
      "Enter the value of C6H6(GT) : 11.88\n",
      "Enter the value of PT08.S2(NMHC) : 1045\n",
      "Enter the value of NOx(GT) : 166\n",
      "Enter the value of PT08.S3(NOx) : 1056\n",
      "Enter the value of NO2(GT) : 113\n",
      "Enter the value of PT08.S4(NO2) : 1692\n",
      "Enter the value of PT08.S5(O3) : 1267\n",
      "Temperature :  [17.96470813]\n",
      "Relative Humidity :  [48.30080893]\n",
      "Absolute Humidity :  [1.02407732]\n"
     ]
    }
   ],
   "source": [
    "# taking feature values from user and finding the prediction\n",
    "i=0\n",
    "l=[]\n",
    "while(i<9):\n",
    "    a=float(input(f'Enter the value of {data.columns[i+2]} : '))\n",
    "    l.append(a)\n",
    "    i+=1\n",
    "user_value=np.array([l])\n",
    "from sklearn.preprocessing import StandardScaler\n",
    "std=StandardScaler()\n",
    "user_value=std.fit_transform(user_value)\n",
    "pred_temp=model_temp.predict(user_value)\n",
    "pred_RH=model_RH.predict(user_value)\n",
    "pred_AH=model_AH.predict(user_value)\n",
    "print('Temperature : ',pred_temp)\n",
    "print('Relative Humidity : ',pred_RH)\n",
    "print('Absolute Humidity : ',pred_AH)"
   ]
  },
  {
   "cell_type": "code",
   "execution_count": null,
   "metadata": {},
   "outputs": [],
   "source": []
  }
 ],
 "metadata": {
  "kernelspec": {
   "display_name": "Python 3",
   "language": "python",
   "name": "python3"
  },
  "language_info": {
   "codemirror_mode": {
    "name": "ipython",
    "version": 3
   },
   "file_extension": ".py",
   "mimetype": "text/x-python",
   "name": "python",
   "nbconvert_exporter": "python",
   "pygments_lexer": "ipython3",
   "version": "3.8.3"
  }
 },
 "nbformat": 4,
 "nbformat_minor": 4
}
